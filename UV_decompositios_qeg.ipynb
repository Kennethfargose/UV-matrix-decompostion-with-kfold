{
  "nbformat": 4,
  "nbformat_minor": 5,
  "metadata": {
    "kernelspec": {
      "display_name": "Python 3 (ipykernel)",
      "language": "python",
      "name": "python3"
    },
    "language_info": {
      "codemirror_mode": {
        "name": "ipython",
        "version": 3
      },
      "file_extension": ".py",
      "mimetype": "text/x-python",
      "name": "python",
      "nbconvert_exporter": "python",
      "pygments_lexer": "ipython3",
      "version": "3.8.12"
    },
    "colab": {
      "provenance": [],
      "include_colab_link": true
    },
    "accelerator": "GPU"
  },
  "cells": [
    {
      "cell_type": "markdown",
      "metadata": {
        "id": "view-in-github",
        "colab_type": "text"
      },
      "source": [
        "<a href=\"https://colab.research.google.com/github/Kennethfargose/UV-matrix-decompostion-with-kfold/blob/main/UV_decompositios_qeg.ipynb\" target=\"_parent\"><img src=\"https://colab.research.google.com/assets/colab-badge.svg\" alt=\"Open In Colab\"/></a>"
      ]
    },
    {
      "cell_type": "code",
      "metadata": {
        "id": "b8edf20a"
      },
      "source": [],
      "id": "b8edf20a",
      "execution_count": null,
      "outputs": []
    },
    {
      "cell_type": "code",
      "metadata": {
        "id": "ea836af1"
      },
      "source": [
        "import numpy as np\n",
        "import pandas as pd\n",
        "from sklearn.model_selection import KFold\n",
        "from sklearn.linear_model import LinearRegression\n",
        "from sklearn.metrics import mean_squared_error, r2_score, accuracy_score\n",
        "\n",
        "#Reading the file \n",
        "ratings = pd.read_csv('ratings.dat', engine='python', sep='::', names=['user_id', 'movie_id', 'rating', 'timestamp'])\n",
        "RT=ratings\n",
        "#splitting the dataset into training and test sets\n",
        "KF = KFold(n_splits=5, shuffle=True)\n",
        "c = 2\n",
        "\n",
        "i = 5\n",
        "#Kfold\n",
        "for train_index, test_index in KF.split(RT):\n",
        "    RT_train, RT_test = RT.loc[train_index], RT.loc[test_index]\n",
        "    Row_df = RT_train.pivot(index = 'user_id', columns ='movie_id', values = 'rating')\n",
        "    u_mean = Row_df.mean(axis=1)\n",
        "    Row_df_array = Row_df.to_numpy()\n",
        "    u_mean = u_mean.to_numpy()\n",
        "    normal = Row_df_array - u_mean.reshape(-1,1)\n",
        "    N = normal\n",
        "    u = np.full((normal.shape[0],2), 1)\n",
        "    v = np.full((2,normal.shape[1]), 1)\n",
        "    u = u.astype(np.float32)\n",
        "    v = v.astype(np.float32)\n",
        "    uv = np.dot(u,v)\n",
        "    print(\"TRAIN:\", train_index, \"TEST:\", test_index)\n",
        "  \n",
        "    for iterations in range(i):\n",
        "        for r in range(6040):\n",
        "  #update u\n",
        "            for s in range(c):\n",
        "                sums = 0\n",
        "                u_rk = u[r,:]\n",
        "                v_kj = v[:,:]\n",
        "                u_rk_del = np.delete(u_rk, s, 0)\n",
        "                v_kj_del = np.delete(v_kj, s, 0)\n",
        "                v_sj = v[s,:]\n",
        "                v_sj_squared = v_sj ** 2\n",
        "\n",
        "                u_rk_v_kj = np.dot(u_rk_del, v_kj_del)\n",
        "                m_rj = N[r,:]\n",
        "\n",
        "                error = m_rj - u_rk_v_kj\n",
        "\n",
        "                vsj_dot_er = v_sj * error\n",
        "                sums = np.nansum(vsj_dot_er)\n",
        "                v_sj_ssum = np.nansum((v_sj_squared) * (~np.isnan(m_rj)))\n",
        "                newval_u = sums / v_sj_ssum\n",
        "                u[r,s] = u[r,s] + ((newval_u - u[r,s]))\n",
        "        #update v \n",
        "        for r in range(c):\n",
        "            for s in range(Row_df_array.shape[1]):\n",
        "                sums = 0\n",
        "             \n",
        "\n",
        "                u_ik = u[:,:]\n",
        "                v_ks = v[:,s]\n",
        "                u_ik_del = np.delete(u_ik, r, 1)\n",
        "\n",
        "                v_ks_del = np.delete(v_ks, r, 0)\n",
        "                u_ir = u[:,r]\n",
        "                u_ir_squared = u_ir ** 2\n",
        "\n",
        "                u_ik_v_ks = np.dot(u_ik_del, v_ks_del)\n",
        "                m_is = N[:,s]\n",
        "                error = m_is - u_ik_v_ks\n",
        "\n",
        "                uir_dot_er = u_ir * error\n",
        "                sumsv = np.nansum(uir_dot_er)\n",
        "                u_ir_ssum = np.nansum(u_ir_squared * (~np.isnan(m_is)))\n",
        "                newval_v = sumsv / u_ir_ssum\n",
        "                v[r,s] = v[r,s] + ((newval_v - v[r,s]))\n",
        "\n",
        "        uv = np.dot(u,v)\n",
        "        dif = uv -normal\n",
        "        print(\"Iteration Number: \",iterations )\n",
        "      \n",
        "      #for mean absoulte error\n",
        "        dif_abs= (np.absolute(dif))\n",
        "        dif_abs_0s = np.nan_to_num(dif_abs)\n",
        "        dif_abs_sum = np.sum(dif_abs_0s,axis=0)\n",
        "        sum_dif = dif_abs_sum.sum()\n",
        "        non_0_count = np.count_nonzero(dif_abs_0s)\n",
        "        MAE=sum_dif/non_0_count\n",
        "        print('MAE',MAE)\n",
        "  #for Root mean square error\n",
        "        dif_sqr = dif ** 2\n",
        "        dif_sqr_0s = np.nan_to_num(dif_sqr)\n",
        "        dif_sqr_total= np.sum( dif_sqr_0s ,axis=0)\n",
        "        sumz = dif_sqr_total.sum()\n",
        "        non_0_count_sqr = np.count_nonzero( dif_sqr_0s )\n",
        "        RME = sumz/ non_0_count_sqr\n",
        "        rme_list=[RME]\n",
        "        print('RMSE=',RME)\n",
        "        \n",
        "\n",
        "        "
      ],
      "id": "ea836af1",
      "execution_count": null,
      "outputs": []
    },
    {
      "cell_type": "code",
      "metadata": {
        "id": "745e5969",
        "colab": {
          "base_uri": "https://localhost:8080/"
        },
        "outputId": "2f2528e6-e436-4b26-aa47-2b98db7a354e"
      },
      "source": [],
      "id": "745e5969",
      "execution_count": null,
      "outputs": [
        {
          "output_type": "stream",
          "name": "stdout",
          "text": [
            "TRAIN: [      0       1       3 ... 1000206 1000207 1000208] TEST: [      2       4      12 ... 1000196 1000200 1000204]\n",
            "Iteration Number:  0\n",
            "MAE 0.725142056815476\n",
            "RMSE= 0.8438463252083488\n",
            "Iteration Number:  1\n",
            "MAE 0.7040416262671076\n",
            "RMSE= 0.7963222186255917\n",
            "Iteration Number:  2\n",
            "MAE 0.6989597711124781\n",
            "RMSE= 0.7862041711731045\n",
            "Iteration Number:  3\n",
            "MAE 0.695608280142176\n",
            "RMSE= 0.7796409320405413\n",
            "Iteration Number:  4\n",
            "MAE 0.6931920037568466\n",
            "RMSE= 0.7749724329279266\n",
            "TRAIN: [      0       1       2 ... 1000206 1000207 1000208] TEST: [      9      11      14 ... 1000186 1000194 1000197]\n",
            "Iteration Number:  0\n",
            "MAE 0.7243774965639481\n",
            "RMSE= 0.8427498453710994\n",
            "Iteration Number:  1\n",
            "MAE 0.7032860358870183\n",
            "RMSE= 0.7950398633410676\n",
            "Iteration Number:  2\n",
            "MAE 0.6981903006643929\n",
            "RMSE= 0.7848233698116137\n",
            "Iteration Number:  3\n",
            "MAE 0.6948248473764357\n",
            "RMSE= 0.7782204773495497\n",
            "Iteration Number:  4\n",
            "MAE 0.6923999679943281\n",
            "RMSE= 0.7735253511570858\n",
            "TRAIN: [      1       2       3 ... 1000204 1000206 1000207] TEST: [      0       5      15 ... 1000193 1000205 1000208]\n",
            "Iteration Number:  0\n",
            "MAE 0.7251496069075856\n",
            "RMSE= 0.8435594891159991\n",
            "Iteration Number:  1\n",
            "MAE 0.7040163086704525\n",
            "RMSE= 0.7958167452514378\n",
            "Iteration Number:  2\n",
            "MAE 0.6988463876115689\n",
            "RMSE= 0.7854971845946797\n",
            "Iteration Number:  3\n",
            "MAE 0.6954170504107422\n",
            "RMSE= 0.7788041542522598\n",
            "Iteration Number:  4\n",
            "MAE 0.6929454949621373\n",
            "RMSE= 0.7740440323288645\n",
            "TRAIN: [      0       1       2 ... 1000205 1000206 1000208] TEST: [      3       6      13 ... 1000201 1000203 1000207]\n",
            "Iteration Number:  0\n",
            "MAE 0.7248220087887822\n",
            "RMSE= 0.8433057455974146\n",
            "Iteration Number:  1\n",
            "MAE 0.7037676428317727\n",
            "RMSE= 0.7958800429666626\n",
            "Iteration Number:  2\n",
            "MAE 0.698676440007008\n",
            "RMSE= 0.7856508938265998\n",
            "Iteration Number:  3\n",
            "MAE 0.6952877066372892\n",
            "RMSE= 0.7790063752621079\n",
            "Iteration Number:  4\n",
            "MAE 0.6928314062362787\n",
            "RMSE= 0.7742827842613532\n",
            "TRAIN: [      0       2       3 ... 1000205 1000207 1000208] TEST: [      1       7       8 ... 1000199 1000202 1000206]\n",
            "Iteration Number:  0\n",
            "MAE 0.7245096303537151\n",
            "RMSE= 0.8425054486928417\n",
            "Iteration Number:  1\n",
            "MAE 0.7034247070068534\n",
            "RMSE= 0.7948345636290388\n",
            "Iteration Number:  2\n",
            "MAE 0.6983195665357781\n",
            "RMSE= 0.7846407886399454\n",
            "Iteration Number:  3\n",
            "MAE 0.6949190221414785\n",
            "RMSE= 0.778022694947897\n",
            "Iteration Number:  4\n",
            "MAE 0.692478587641737\n",
            "RMSE= 0.7733152045999114\n"
          ]
        }
      ]
    },
    {
      "cell_type": "code",
      "metadata": {
        "id": "x6h-QXZL9D-v"
      },
      "source": [],
      "id": "x6h-QXZL9D-v",
      "execution_count": null,
      "outputs": []
    },
    {
      "cell_type": "code",
      "metadata": {
        "id": "8dd93a3c",
        "colab": {
          "base_uri": "https://localhost:8080/"
        },
        "outputId": "ca7d662a-d037-4f6b-f443-8a5c3055ba39"
      },
      "source": [
        "import matplotlib.pyplot as plt\n"
      ],
      "id": "8dd93a3c",
      "execution_count": null,
      "outputs": [
        {
          "output_type": "stream",
          "name": "stdout",
          "text": [
            "[0.7733152045999114]\n"
          ]
        }
      ]
    }
  ]
}